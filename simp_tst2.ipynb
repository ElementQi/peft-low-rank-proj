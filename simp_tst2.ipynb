{
 "cells": [
  {
   "cell_type": "code",
   "execution_count": 1,
   "metadata": {},
   "outputs": [
    {
     "name": "stderr",
     "output_type": "stream",
     "text": [
      "/home/ubuntu/date/mq_tst/anaconda3/envs/newpeft/lib/python3.10/site-packages/transformers/utils/hub.py:124: FutureWarning: Using `TRANSFORMERS_CACHE` is deprecated and will be removed in v5 of Transformers. Use `HF_HOME` instead.\n",
      "  warnings.warn(\n"
     ]
    }
   ],
   "source": [
    "from ct_model import DeltaModel, dispatch_default\n",
    "from ct_bnb import Linear4bit, dispatch_bnb_4bit\n",
    "from ct_layer import DeltaLayer\n",
    "from ct_config import CTConfig\n",
    "from ct_optim import BlockOptimizer\n",
    "from prepare_data import gen_dataloader\n",
    "\n",
    "from torch.optim import AdamW\n",
    "from transformers import AutoTokenizer, AutoModelForCausalLM, BitsAndBytesConfig\n",
    "import torch\n",
    "\n",
    "from tqdm import tqdm"
   ]
  },
  {
   "cell_type": "code",
   "execution_count": 2,
   "metadata": {},
   "outputs": [],
   "source": [
    "import os\n",
    "os.environ['HF_HOME'] = '/home/ubuntu/date/hf_cache'\n",
    "\n",
    "os.environ['HTTP_PROXY'] = \"http://10.24.59.12:7890\"\n",
    "os.environ['HTTPS_PROXY'] = \"http://10.24.59.12:7890\"\n"
   ]
  },
  {
   "cell_type": "code",
   "execution_count": 3,
   "metadata": {},
   "outputs": [
    {
     "name": "stderr",
     "output_type": "stream",
     "text": [
      "Special tokens have been added in the vocabulary, make sure the associated word embeddings are fine-tuned or trained.\n"
     ]
    }
   ],
   "source": [
    "device_id = 2\n",
    "\n",
    "# Quantization type (fp4 or nf4), According to QLoRA paper, for training 4-bit base models (e.g. using LoRA adapters) one should use\n",
    "bnb_4bit_quant_type = \"fp4\"\n",
    "\n",
    "# Activate nested quantization for 4-bit base models (double quantization)\n",
    "use_nested_quant = True\n",
    "\n",
    "model_id = \"Qwen/Qwen1.5-0.5B\"\n",
    "bnb_config = BitsAndBytesConfig(\n",
    "    load_in_4bit=True,\n",
    "    bnb_4bit_use_double_quant=use_nested_quant,\n",
    "    bnb_4bit_quant_type=bnb_4bit_quant_type,\n",
    "    bnb_4bit_compute_dtype=torch.bfloat16\n",
    ")\n",
    "\n",
    "tokenizer = AutoTokenizer.from_pretrained(model_id)\n",
    "model = AutoModelForCausalLM.from_pretrained(model_id, quantization_config=bnb_config, device_map={\"\":device_id})"
   ]
  },
  {
   "cell_type": "code",
   "execution_count": 4,
   "metadata": {},
   "outputs": [],
   "source": [
    "config = CTConfig(\n",
    "             r=32,\n",
    "             delta_alpha=1,\n",
    "             target_modules=[\"q_proj\", \"k_proj\", \"v_proj\", \"o_proj\",\n",
    "                             \"gate_proj\", \"up_proj\", \"down_proj\"],\n",
    "             delta_dropout=0,\n",
    "             init_lora_weights=False,\n",
    "         )"
   ]
  },
  {
   "cell_type": "code",
   "execution_count": 5,
   "metadata": {},
   "outputs": [],
   "source": [
    "delta_model = DeltaModel(model, config, \"default\")"
   ]
  },
  {
   "cell_type": "code",
   "execution_count": 6,
   "metadata": {},
   "outputs": [],
   "source": [
    "# train_dataloader = gen_dataloader()"
   ]
  },
  {
   "cell_type": "code",
   "execution_count": 7,
   "metadata": {},
   "outputs": [],
   "source": [
    "base_optimizer = AdamW(model.parameters(), lr=1e-4)"
   ]
  },
  {
   "cell_type": "code",
   "execution_count": 8,
   "metadata": {},
   "outputs": [
    {
     "name": "stdout",
     "output_type": "stream",
     "text": [
      "Now init the block adapter ['model.model.layers.0.']\n",
      "Parameters with the following prefix will be trainable: ['model.model.layers.0.']\n"
     ]
    }
   ],
   "source": [
    "optimizer = BlockOptimizer(base_optimizer,\n",
    "                           list(delta_model.named_parameters()),\n",
    "                           None,\n",
    "                           switch_mode=\"ascending\",\n",
    "                           model=delta_model)"
   ]
  },
  {
   "cell_type": "code",
   "execution_count": 9,
   "metadata": {},
   "outputs": [],
   "source": [
    "# for step, batch in enumerate(tqdm(train_dataloader)):\n",
    "#     input_ids = batch[\"input_ids\"]\n",
    "#     attention_mask = batch[\"attention_mask\"]\n",
    "#     labels = batch[\"labels\"]\n",
    "\n",
    "#     outputs = delta_model(input_ids=input_ids, attention_mask=attention_mask, labels=labels)\n",
    "#     loss = outputs.loss\n",
    "\n",
    "#     if step % 20 ==0:\n",
    "#         print(loss)\n",
    "\n",
    "#     optimizer.zero_grad()\n",
    "#     loss.backward()\n",
    "#     optimizer.step()"
   ]
  }
 ],
 "metadata": {
  "kernelspec": {
   "display_name": "newpeft",
   "language": "python",
   "name": "python3"
  },
  "language_info": {
   "codemirror_mode": {
    "name": "ipython",
    "version": 3
   },
   "file_extension": ".py",
   "mimetype": "text/x-python",
   "name": "python",
   "nbconvert_exporter": "python",
   "pygments_lexer": "ipython3",
   "version": "3.10.14"
  }
 },
 "nbformat": 4,
 "nbformat_minor": 2
}
